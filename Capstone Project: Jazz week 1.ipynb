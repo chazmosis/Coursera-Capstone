{
    "nbformat_minor": 1, 
    "cells": [
        {
            "source": "# A New Concept in Coffee, a New Concept in Jazz", 
            "cell_type": "markdown", 
            "metadata": {}
        }, 
        {
            "source": "## Introduction", 
            "cell_type": "markdown", 
            "metadata": {}
        }, 
        {
            "source": "Great coffee and great jazz are enjoyed around the world by people of all nationalities and races, and in New York City we are lucky to have some of the best places on earth to experience both. \n\nOur clients, a group of jazz musicians and producers, understand this and have begun planning for a new kind of coffee experience in New York City. They have engaged us to execute neighborhood analysis in Manhattan to identify the most favorable areas for this venture.\n\nFirst some background on the proposed business:\n\nDuring the day the venue will operate as a regular gourmet coffee shop but with a jazz theme, with vintage memorabilia such as autographed photos and records on display, and jazz playing through a sound system. This isn't just another coffee shop however: although coffee will be the primary daytime business the venue will include a stage area in the back for jazz performances at night, when alcohol will be available in addition to coffee.\n\nNot only will formal shows be staged, several times a week the venue will host \"open mic\" sessions, with a house band ready to serve as a backing group to play standards with customers who want to perform. My clients plan to have professional-grade audio/visual equipment to record these sessions so that customers can purchase a recording of their performance.\n\nThe belief is that by having a coffee shop as the main daytime purpose of the business, with a love of jazz as the focus, the shop/club will attract jazz-loving customers for the coffee and music and help build an audience for the evening shows.", 
            "cell_type": "markdown", 
            "metadata": {}
        }, 
        {
            "source": "## Business Problem", 
            "cell_type": "markdown", 
            "metadata": {}
        }, 
        {
            "source": "While there are a number of professional jazz clubs in New York City there are few, if any, which include \"open mic\" opportunities and none that also focus on great coffee. The problem we seek to solve is which neighborhoods in Manhattan would be the best candidates for such a unique venue. \n\nThe target demographic is jazz lovers, amateur jazz musicians, and jazz professionals from the New York metropolitan area and visiting from around the world. Our approach will be to identify neighborhoods with a higher concentration of music\u2013related activity, but which would also be good locations for a business selling coffee.", 
            "cell_type": "markdown", 
            "metadata": {}
        }, 
        {
            "source": "## Data", 
            "cell_type": "markdown", 
            "metadata": {}
        }, 
        {
            "source": "Since our goal is to identify New York City neighborhoods where music is popular we will use FourSquare data on New York City, Manhattan in particular. The underlying neighborhood data is a list of boroughs, neighborhoods and associated coordinates publically available from New York University.\n\nBy using FourSquare to highlight neighborhoods with music venues and other music-related businesses (e.g. record stores), then clustering them accordingly, we can identify areas where music is popular and musicians like to spend time. Once a target list is identified we will execute analysis of coffee shop density to identify an area within that list where there is a lower concentration of existing shops.\n\n\n\n", 
            "cell_type": "markdown", 
            "metadata": {}
        }, 
        {
            "source": "**1. Neighborhood Data**\n\nThe data set used to identify New York City neighborhoods is available here: NYC Neighborhood Data (https://geo.nyu.edu/catalog/nyu_2451_34572)\n\nWithin the New York City neighborhood data we will be using three primary fields. Here are the field names, associated data, and an example of each:\n\n| Field Name  | Associated Data                       | Example                                 |\n| :--- | :--- | :--- |\n| borough     | Borough name                          | _Manhattan_                             |\n| name        | Neighborhood name                     | _Upper East Side_                       |\n| coordinates | Neighborhood geographical coordinates | _[-73.96050763135, 40.775638573301805]_ |\n\n \nOur specific data set will focus only on the borough of Manhattan. Coordinates will be split into Latitude and Longitude, as such the neighborhood data set will include 40 boroughs and 4 columns.", 
            "cell_type": "markdown", 
            "metadata": {}
        }, 
        {
            "source": "**2. FourSquare data**\n\nFrom the returned FourSquare data we will use the following fields for our project:\n\nField Name | Associated Data | Example\n--- | --- | ---\nvenue : location : lat | Venue latitude | _40.8769755336728_ \nvenue : location : lng | Venue longitude  | _-73.90675193198494_ \ncategories : name | Venue Category | _Ice Cream Shop_\n\nFor our analysis we will focus on the following FourSquare categories:\n\n- Record Shop\n- Performing Arts Venue\n- Jazz Club\n- Concert Hall\n- Music School\n- Music Venue\n- Nightclub\n- Opera House\n- Wine Bar\n- Coffee Shop\n", 
            "cell_type": "markdown", 
            "metadata": {}
        }, 
        {
            "source": "By merging the neighborhood and FourSquare data we can identify venue categories of interest within a certain radius of the neighborhood's central coordinates - we will set this radius as 500 meters.\n\nOnce we have data on every neighborhood in Manhattan we will use k-clustering analysis to group the neighborhoods to help understand the types of nearby venues. This will allow identification of neighborhoods that have a concentration of music-related venues, and then within that list we will seek to identify those with fewer coffee shops.", 
            "cell_type": "markdown", 
            "metadata": {}
        }, 
        {
            "execution_count": null, 
            "cell_type": "code", 
            "metadata": {}, 
            "outputs": [], 
            "source": ""
        }
    ], 
    "metadata": {
        "kernelspec": {
            "display_name": "Python 3.6", 
            "name": "python3", 
            "language": "python"
        }, 
        "language_info": {
            "mimetype": "text/x-python", 
            "nbconvert_exporter": "python", 
            "version": "3.6.8", 
            "name": "python", 
            "file_extension": ".py", 
            "pygments_lexer": "ipython3", 
            "codemirror_mode": {
                "version": 3, 
                "name": "ipython"
            }
        }
    }, 
    "nbformat": 4
}